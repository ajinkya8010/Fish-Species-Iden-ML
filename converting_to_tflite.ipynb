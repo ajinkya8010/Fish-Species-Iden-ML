{
 "cells": [
  {
   "cell_type": "code",
   "execution_count": 2,
   "id": "2733b446",
   "metadata": {},
   "outputs": [
    {
     "name": "stderr",
     "output_type": "stream",
     "text": [
      "WARNING:absl:Found untraced functions such as _jit_compiled_convolution_op, _jit_compiled_convolution_op, _jit_compiled_convolution_op, _jit_compiled_convolution_op, _jit_compiled_convolution_op while saving (showing 5 of 29). These functions will not be directly callable after loading.\n"
     ]
    },
    {
     "name": "stdout",
     "output_type": "stream",
     "text": [
      "INFO:tensorflow:Assets written to: C:\\Users\\Ajinkya\\AppData\\Local\\Temp\\tmpk86m9y6b\\assets\n"
     ]
    },
    {
     "name": "stderr",
     "output_type": "stream",
     "text": [
      "INFO:tensorflow:Assets written to: C:\\Users\\Ajinkya\\AppData\\Local\\Temp\\tmpk86m9y6b\\assets\n"
     ]
    },
    {
     "data": {
      "text/plain": [
       "17077784"
      ]
     },
     "execution_count": 2,
     "metadata": {},
     "output_type": "execute_result"
    }
   ],
   "source": [
    "import tensorflow as tf\n",
    "#store .h5 file in your .py folder\n",
    "\n",
    "#load h5 module\n",
    "model=tf.keras.models.load_model('mobile_net_results3/fish_iden_mobnet3.h5')\n",
    "tflite_converter = tf.lite.TFLiteConverter.from_keras_model(model)\n",
    "\n",
    "#convert\n",
    "tflite_model = tflite_converter.convert()\n",
    "open(\"tf_lite_model_fishspecies_nofish.tflite\", \"wb\").write(tflite_model)\n",
    "\n",
    "#done convertiona"
   ]
  },
  {
   "cell_type": "code",
   "execution_count": null,
   "id": "9b78a423",
   "metadata": {},
   "outputs": [],
   "source": []
  }
 ],
 "metadata": {
  "kernelspec": {
   "display_name": "Python 3 (ipykernel)",
   "language": "python",
   "name": "python3"
  },
  "language_info": {
   "codemirror_mode": {
    "name": "ipython",
    "version": 3
   },
   "file_extension": ".py",
   "mimetype": "text/x-python",
   "name": "python",
   "nbconvert_exporter": "python",
   "pygments_lexer": "ipython3",
   "version": "3.10.5"
  }
 },
 "nbformat": 4,
 "nbformat_minor": 5
}
